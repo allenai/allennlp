{
 "cells": [
  {
   "cell_type": "raw",
   "metadata": {},
   "source": [
    "---\n",
    "layout: tutorial\n",
    "title: Vocabularies in AllenNLP\n",
    "id: vocabulary\n",
    "---"
   ]
  },
  {
   "cell_type": "markdown",
   "metadata": {
    "collapsed": true
   },
   "source": [
    "\n",
    "### Vocabularies in AllenNLP\n",
    "\n",
    "Before we start, this tutorial assumes you've already gone through the tutorial on datasets, `Instances` and `Fields`. If you haven't, you might want to check out that one first as we make use of some of these constructs to explain the `Vocabulary` functionality.\n",
    "\n",
    "A `Vocabulary` maps strings to integers, allowing for strings to be mapped to an\n",
    " out-of-vocabulary token.\n",
    "\n",
    "Vocabularies can be fit to a particular dataset, which we use to decide which tokens are\n",
    " in-vocabulary, or alternatively, they can be loaded directly from a static vocabulary file.\n",
    "\n",
    "\n",
    "First, let's import the vocabulary class from `allennlp` and create a vocabulary.\n"
   ]
  },
  {
   "cell_type": "code",
   "execution_count": 1,
   "metadata": {},
   "outputs": [],
   "source": [
    "# This cell just makes sure the library paths are correct. \n",
    "# You need to run this cell before you run the rest of this\n",
    "# tutorial, but you can ignore the contents!\n",
    "import os\n",
    "import sys\n",
    "module_path = os.path.abspath(os.path.join('../..'))\n",
    "if module_path not in sys.path:\n",
    "    sys.path.append(module_path)"
   ]
  },
  {
   "cell_type": "code",
   "execution_count": 2,
   "metadata": {},
   "outputs": [],
   "source": [
    "from allennlp.data import Vocabulary"
   ]
  },
  {
   "cell_type": "markdown",
   "metadata": {},
   "source": [
    "\n",
    "Let's create an empty `Vocabulary` so we can look at the arguments it takes.\n"
   ]
  },
  {
   "cell_type": "code",
   "execution_count": 3,
   "metadata": {},
   "outputs": [],
   "source": [
    "vocab = Vocabulary(counter=None, min_count=1, max_vocab_size=100000)"
   ]
  },
  {
   "cell_type": "markdown",
   "metadata": {},
   "source": [
    "\n",
    "The vocabulary takes 4 arguments (we've used 3 of these here): \n",
    "\n",
    "- A counter, which is a `Dict[str, Dict[str, int]]`: This is a nested dictionary because the allennlp Vocabulary class supports the idea of \"namespaces\". A namespace is a vocabulary which is associated with a part of your data. For instance, in a sequence tagging model, you would typically have two namespaces: A namespace of words for your textual input and a namespace of tags(e.g. \"NP\", \"VP\", etc) for your labels. This counter is therefore a mapping from string namespace names to their respective mapping dictionaries of `Dict[tokens => counts]`.\n",
    "\n",
    "\n",
    "- A minimum count: Tokens with smaller counts than this won't be included in your `Vocabulary`.\n",
    "\n",
    "\n",
    "- A maximum vocab size: The lowest frequency words will be dropped to make your vocabulary this size.\n",
    "\n",
    "\n",
    "- Non padded namespaces (left as the defaults for this tutorial): These are `namespace` suffixes which won't contain padding and unknown tokens. By default, these are `*labels` and `*tags`, so any namespace you create which ends with one of these names (e.g `sequence_labels`) won't contain these additional tokens. The reason for this is explained a bit more below.\n",
    "\n",
    "\n",
    "For some namespaces, such as words, we provide additional tokens commonly used in NLP applications - specifically, \"@@PADDING@@\" and \"@@UNKNOWN@@\". Why did we use these slightly odd tokens? Well, if anything goes wrong in your model, it's going to be pretty obvious, because these tokens are pretty hard to miss. However, for other namespaces, such as tags, you _don't_ want these extra tokens, because in your model, you are going to be creating a distribution over the size of this namespace, so if we have added extra tags, your model could predict these. "
   ]
  },
  {
   "cell_type": "markdown",
   "metadata": {},
   "source": [
    "\n",
    "It's easy to interact with the vocabulary we just created. Let's add some words!\n"
   ]
  },
  {
   "cell_type": "code",
   "execution_count": 4,
   "metadata": {},
   "outputs": [
    {
     "name": "stdout",
     "output_type": "stream",
     "text": [
      "{0: '@@PADDING@@', 1: '@@UNKNOWN@@', 2: 'Barack', 3: 'Obama'}\n",
      "{0: 'PERSON', 1: 'PLACE'}\n"
     ]
    }
   ],
   "source": [
    "vocab.add_token_to_namespace(\"Barack\", namespace=\"tokens\")\n",
    "vocab.add_token_to_namespace(\"Obama\", namespace=\"tokens\")\n",
    "\n",
    "vocab.add_token_to_namespace(\"PERSON\", namespace=\"tags\")\n",
    "vocab.add_token_to_namespace(\"PLACE\", namespace=\"tags\")\n",
    "print(vocab.get_index_to_token_vocabulary(\"tokens\"))\n",
    "print(vocab.get_index_to_token_vocabulary(\"tags\"))"
   ]
  },
  {
   "cell_type": "markdown",
   "metadata": {},
   "source": [
    "Notice that when we print the namespace for `tags` we don't have any padding tokens or unknown tokens. Additionally, you can add tokens to a `namespace` by loading them directly from a file using the `set_from_file` method. It needs to contain the OOV token as well and will overwrite tokens in the namespace specified.\n",
    "\n",
    "\n",
    "It's also easy to interact with the Vocabulary to retrieve specific word ids or tokens for a given id.\n"
   ]
  },
  {
   "cell_type": "code",
   "execution_count": 5,
   "metadata": {},
   "outputs": [
    {
     "name": "stdout",
     "output_type": "stream",
     "text": [
      "Index 2 has token:  Barack\n",
      "Word 'Barack' has index:  2\n"
     ]
    }
   ],
   "source": [
    "print(\"Index 2 has token: \", vocab.get_token_from_index(2, namespace=\"tokens\"))\n",
    "print(\"Word 'Barack' has index: \", vocab.get_token_index(\"Barack\", namespace=\"tokens\"))"
   ]
  },
  {
   "cell_type": "markdown",
   "metadata": {},
   "source": [
    "Also note that `namespaces` will deal with OOV tokens differently depending on whether they contain an OOV Token. See the difference between asking for an index for \"pernacious\" in the two different `namespaces` we've created in our toy `Vocabulary`:"
   ]
  },
  {
   "cell_type": "code",
   "execution_count": 6,
   "metadata": {},
   "outputs": [
    {
     "name": "stdout",
     "output_type": "stream",
     "text": [
      "The index of 'pernacious' in the 'tokens' namespace should be 1 (The @@UNKOWN@@ token):  1\n",
      "As 'tags' doesn't have an unknown token, fetching non-existent tags will throw a KeyError.\n"
     ]
    }
   ],
   "source": [
    "print(\"The index of 'pernacious' in the 'tokens' namespace should be 1 (The @@UNKOWN@@ token): \", vocab.get_token_index(\"pernacious\", namespace=\"tokens\"))\n",
    "\n",
    "try:\n",
    "    vocab.get_token_index(\"pernacious\", namespace=\"tags\")\n",
    "except KeyError:\n",
    "    print(\"As 'tags' doesn't have an unknown token, fetching non-existent tags will throw a KeyError.\")"
   ]
  },
  {
   "cell_type": "markdown",
   "metadata": {
    "collapsed": true
   },
   "source": [
    "\n",
    "Above, we demonstrated the basic functionality of the namespaces in the Vocabulary. So far so good - probably not much different to other `Vocabulary` type classes for NLP that you've seen before. However, we'd ideally like to \n",
    "generate a full `Vocabulary` without having to individually add all the different words. Below, we'll generate a dataset consisting of a single `Instance` and use it to automatically generate a `Vocabulary`. \n"
   ]
  },
  {
   "cell_type": "code",
   "execution_count": 8,
   "metadata": {},
   "outputs": [],
   "source": [
    "from allennlp.data.fields import TextField, SequenceLabelField\n",
    "from allennlp.data import Instance, Token\n",
    "from allennlp.data.token_indexers import SingleIdTokenIndexer\n",
    "sentence = TextField(tokens=list(map(Token, [\"Barack\", \"Obama\", \"is\", \"a\", \"great\", \"guy\", \".\"])),\n",
    "                     token_indexers={\"tokens\": SingleIdTokenIndexer()})\n",
    "tags = SequenceLabelField([\"PERSON\", \"PERSON\", \"O\", \"O\", \"O\", \"O\", \"O\"], sentence, label_namespace=\"tags\")\n",
    "instances = [Instance({\"sentence\": sentence, \"tags\": tags})]"
   ]
  },
  {
   "cell_type": "markdown",
   "metadata": {
    "collapsed": true
   },
   "source": [
    "\n",
    "Now we've generated this baby dataset with one training instance, we can generate a `Vocabulary` using a classmethod on `Vocabulary`."
   ]
  },
  {
   "cell_type": "markdown",
   "metadata": {
    "collapsed": true
   },
   "source": []
  },
  {
   "cell_type": "code",
   "execution_count": 9,
   "metadata": {},
   "outputs": [
    {
     "name": "stderr",
     "output_type": "stream",
     "text": [
      "100%|██████████| 1/1 [00:00<00:00, 3506.94it/s]"
     ]
    },
    {
     "name": "stdout",
     "output_type": "stream",
     "text": [
      "{0: '@@PADDING@@', 1: '@@UNKNOWN@@', 2: 'Barack', 3: 'Obama', 4: 'is', 5: 'a', 6: 'great', 7: 'guy', 8: '.'}\n",
      "{0: 'O', 1: 'PERSON'}\n"
     ]
    },
    {
     "name": "stderr",
     "output_type": "stream",
     "text": [
      "\n"
     ]
    }
   ],
   "source": [
    "vocab = Vocabulary.from_instances(instances)\n",
    "print(vocab.get_index_to_token_vocabulary(\"tokens\"))\n",
    "print(vocab.get_index_to_token_vocabulary(\"tags\"))"
   ]
  },
  {
   "cell_type": "markdown",
   "metadata": {},
   "source": [
    "Note that the vocab we created has `tokens` and `tags` namespaces. These come from the key in the `token_indexers` dict in the `TextField` and the `tag_namespace` parameter in the `TagField`. At first, it seems confusing as to why it's possible to have multiple `TokenIndexers`. This is because in `allennlp`, we make a distinction between _tokenisation_ and _token representation_. More on this in the NLP API Tutorial!"
   ]
  },
  {
   "cell_type": "code",
   "execution_count": null,
   "metadata": {
    "collapsed": true
   },
   "outputs": [],
   "source": []
  }
 ],
 "metadata": {
  "kernelspec": {
   "display_name": "Python 3",
   "language": "python",
   "name": "python3"
  },
  "language_info": {
   "codemirror_mode": {
    "name": "ipython",
    "version": 3
   },
   "file_extension": ".py",
   "mimetype": "text/x-python",
   "name": "python",
   "nbconvert_exporter": "python",
   "pygments_lexer": "ipython3",
   "version": "3.6.2"
  }
 },
 "nbformat": 4,
 "nbformat_minor": 1
}
